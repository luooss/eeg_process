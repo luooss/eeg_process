{
 "cells": [
  {
   "cell_type": "markdown",
   "source": [
    "# Preprocess"
   ],
   "metadata": {}
  },
  {
   "cell_type": "markdown",
   "source": [
    "## 1. Load data"
   ],
   "metadata": {}
  },
  {
   "cell_type": "code",
   "execution_count": null,
   "source": [
    "%matplotlib widget\r\n",
    "import os\r\n",
    "import numpy as np\r\n",
    "import matplotlib.pyplot as plt\r\n",
    "import mne\r\n",
    "\r\n",
    "cnt_file = r\"D:\\bcmi\\exp\\eeg_cnt_file\\yinhao_20210323.cnt\"\r\n",
    "\r\n",
    "subj_name = cnt_file[cnt_file.rindex('\\\\')+1 : cnt_file.rindex('_')]\r\n",
    "print(subj_name)\r\n",
    "\r\n",
    "EOG_channels = ['VEO', 'HEO']\r\n",
    "unused_channels = ['M1', 'M2']\r\n",
    "\r\n",
    "raw = mne.io.read_raw_cnt(cnt_file, eog=EOG_channels)\r\n",
    "raw.info['bads'].extend(EOG_channels)\r\n",
    "raw.info['bads'].extend(unused_channels)"
   ],
   "outputs": [],
   "metadata": {}
  },
  {
   "cell_type": "code",
   "execution_count": null,
   "source": [
    "raw.info"
   ],
   "outputs": [],
   "metadata": {}
  },
  {
   "cell_type": "code",
   "execution_count": null,
   "source": [
    "# M1, M2, VEO, HEO\r\n",
    "raw.info['ch_names']"
   ],
   "outputs": [],
   "metadata": {}
  },
  {
   "cell_type": "code",
   "execution_count": null,
   "source": [
    "# number of time points\r\n",
    "raw.n_times"
   ],
   "outputs": [],
   "metadata": {}
  },
  {
   "cell_type": "code",
   "execution_count": null,
   "source": [
    "len(raw.ch_names)"
   ],
   "outputs": [],
   "metadata": {}
  },
  {
   "cell_type": "code",
   "execution_count": null,
   "source": [
    "m = raw.get_montage()\r\n",
    "m"
   ],
   "outputs": [],
   "metadata": {}
  },
  {
   "cell_type": "markdown",
   "source": [
    "## 2. Filtering & Downsample\r\n",
    "No occurence of AC power line interference."
   ],
   "metadata": {}
  },
  {
   "cell_type": "code",
   "execution_count": null,
   "source": [
    "raw.load_data()\r\n",
    "\r\n",
    "# Downsample the data and events at the same time\r\n",
    "raw = raw.filter(l_freq=1, h_freq=75).resample(200)"
   ],
   "outputs": [],
   "metadata": {}
  },
  {
   "cell_type": "markdown",
   "source": [
    "## 3. Mark bad channels"
   ],
   "metadata": {}
  },
  {
   "cell_type": "code",
   "execution_count": null,
   "source": [
    "raw.plot(duration=40, n_channels=66)"
   ],
   "outputs": [],
   "metadata": {}
  },
  {
   "cell_type": "code",
   "execution_count": null,
   "source": [
    "# raw.info['bads'] = EOG_channels + unused_channels\r\n",
    "bad_channels = ['C3', 'C1']\r\n",
    "raw.info['bads'].extend(bad_channels)\r\n",
    "# the plot after bandpass is much better\r\n",
    "# raw.plot(duration=40, n_channels=66)"
   ],
   "outputs": [],
   "metadata": {}
  },
  {
   "cell_type": "code",
   "execution_count": null,
   "source": [
    "raw.info"
   ],
   "outputs": [],
   "metadata": {}
  },
  {
   "cell_type": "markdown",
   "source": [
    "## 4. Set average reference ???"
   ],
   "metadata": {}
  },
  {
   "cell_type": "code",
   "execution_count": null,
   "source": [
    "raw.set_eeg_reference(ref_channels='average')\r\n",
    "fig2 = raw.plot(duration=40, n_channels=66)"
   ],
   "outputs": [],
   "metadata": {}
  },
  {
   "cell_type": "markdown",
   "source": [
    "## 5. Repair bad channels"
   ],
   "metadata": {}
  },
  {
   "cell_type": "code",
   "execution_count": null,
   "source": [
    "# mne montages\r\n",
    "montage_dir = os.path.join(os.path.dirname(mne.__file__), 'channels', 'data', 'montages')\r\n",
    "\r\n",
    "print('\\nBUILT-IN MONTAGE FILES')\r\n",
    "print('======================')\r\n",
    "print(sorted(os.listdir(montage_dir)))"
   ],
   "outputs": [],
   "metadata": {}
  },
  {
   "cell_type": "code",
   "execution_count": null,
   "source": [
    "from collections import OrderedDict\r\n",
    "\r\n",
    "montage_fpath = r\"D:\\bcmi\\EMBC\\montages\\Scan-SynAmps2-Quik-Cap64\\SynAmps2 Quik-Cap64.DAT\"\r\n",
    "\r\n",
    "with open(montage_fpath, 'r') as fid:\r\n",
    "    lines = fid.readlines()\r\n",
    "\r\n",
    "ch_names, poss = list(), list()\r\n",
    "nasion = lpa = rpa = None\r\n",
    "for i, line in enumerate(lines):\r\n",
    "    items = line.split()\r\n",
    "    pos = np.array([float(item) for item in items[1:]])\r\n",
    "    if items[0]=='Centroid' or items[0]=='EKG' or items[0]=='EMG' or items[0]=='REF.':\r\n",
    "        continue\r\n",
    "    elif items[0] == 'Nasion':\r\n",
    "        nasion = pos\r\n",
    "    elif items[0] == 'Left':\r\n",
    "        lpa = pos\r\n",
    "    elif items[0] == 'Right':\r\n",
    "        rpa = pos\r\n",
    "    else:\r\n",
    "        ch_names.append(items[0].upper())\r\n",
    "        poss.append(pos)\r\n",
    "\r\n",
    "electrodes = OrderedDict(zip(ch_names, poss))\r\n",
    "extended_1020_montage = mne.channels.make_dig_montage(electrodes, nasion, lpa, rpa)\r\n",
    "\r\n",
    "print(extended_1020_montage)\r\n",
    "print(len(extended_1020_montage.ch_names))\r\n",
    "extended_1020_montage.ch_names"
   ],
   "outputs": [],
   "metadata": {}
  },
  {
   "cell_type": "code",
   "execution_count": null,
   "source": [
    "# visualize\r\n",
    "fig_3d = extended_1020_montage.plot(kind='3d')\r\n",
    "fig_3d.gca().view_init(azim=70, elev=15)\r\n",
    "extended_1020_montage.plot(kind='topomap', show_names=True)"
   ],
   "outputs": [],
   "metadata": {}
  },
  {
   "cell_type": "code",
   "execution_count": null,
   "source": [
    "raw.set_montage(extended_1020_montage, on_missing='warn')"
   ],
   "outputs": [],
   "metadata": {}
  },
  {
   "cell_type": "code",
   "execution_count": null,
   "source": [
    "raw = raw.interpolate_bads(reset_bads=False, exclude=unused_channels+EOG_channels)\r\n",
    "\r\n",
    "raw.plot(duration=40, n_channels=66)"
   ],
   "outputs": [],
   "metadata": {}
  },
  {
   "cell_type": "markdown",
   "source": [
    "## 6. Remove artifacts with ICA\r\n",
    "### 6.1 Visualize EOG artifact"
   ],
   "metadata": {}
  },
  {
   "cell_type": "code",
   "execution_count": null,
   "source": [
    "from mne.preprocessing import create_eog_epochs\r\n",
    "\r\n",
    "eog_evoked = create_eog_epochs(raw, ch_name=EOG_channels).average()\r\n",
    "eog_evoked.apply_baseline(baseline=(None, -0.2))\r\n",
    "eog_evoked.plot_joint()"
   ],
   "outputs": [],
   "metadata": {}
  },
  {
   "cell_type": "markdown",
   "source": [
    "### 6.2 Visualize ECG artifact"
   ],
   "metadata": {}
  },
  {
   "cell_type": "code",
   "execution_count": null,
   "source": [
    "from mne.preprocessing import create_ecg_epochs\r\n",
    "\r\n",
    "ecg_evoked = create_ecg_epochs(raw).average()\r\n",
    "ecg_evoked.apply_baseline(baseline=(None, -0.2))\r\n",
    "ecg_evoked.plot_joint()"
   ],
   "outputs": [],
   "metadata": {}
  },
  {
   "cell_type": "markdown",
   "source": [
    "### 6.3 ICA\r\n",
    "Decompose"
   ],
   "metadata": {}
  },
  {
   "cell_type": "code",
   "execution_count": null,
   "source": [
    "from mne.preprocessing import ICA\r\n",
    "\r\n",
    "ica = ICA(n_components=5, max_iter='auto', random_state=97)\r\n",
    "ica.fit(raw)\r\n",
    "\r\n",
    "# plot the unfiltered raw file\r\n",
    "ica.plot_sources(raw)"
   ],
   "outputs": [],
   "metadata": {}
  },
  {
   "cell_type": "markdown",
   "source": [
    "Exclude artifact components."
   ],
   "metadata": {}
  },
  {
   "cell_type": "code",
   "execution_count": null,
   "source": [
    "ica.exclude = [0]  # indices chosen based on plots above\r\n",
    "\r\n",
    "# ica.apply() changes the Raw object in-place, so let's make a copy first:\r\n",
    "reconst_raw = raw.copy()\r\n",
    "ica.apply(reconst_raw)\r\n",
    "\r\n",
    "raw.plot(duration=40, n_channels=66)\r\n",
    "reconst_raw.plot(duration=40, n_channels=66)"
   ],
   "outputs": [],
   "metadata": {}
  },
  {
   "cell_type": "code",
   "execution_count": null,
   "source": [
    "del raw"
   ],
   "outputs": [],
   "metadata": {}
  },
  {
   "cell_type": "code",
   "execution_count": null,
   "source": [
    "reconst_raw.plot_sensors(show_names=True)"
   ],
   "outputs": [],
   "metadata": {}
  },
  {
   "cell_type": "markdown",
   "source": [
    "## 7. Extract trigger events && Epoching && Drop bad epochs"
   ],
   "metadata": {}
  },
  {
   "cell_type": "code",
   "execution_count": null,
   "source": [
    "events, event_id = mne.events_from_annotations(reconst_raw)"
   ],
   "outputs": [],
   "metadata": {}
  },
  {
   "cell_type": "code",
   "execution_count": null,
   "source": [
    "type(events), type(event_id)"
   ],
   "outputs": [],
   "metadata": {}
  },
  {
   "cell_type": "code",
   "execution_count": null,
   "source": [
    "# the trigger number represents image number\r\n",
    "# check psychopy code\r\n",
    "event_id.keys()"
   ],
   "outputs": [],
   "metadata": {}
  },
  {
   "cell_type": "code",
   "execution_count": null,
   "source": [
    "len(event_id.keys())"
   ],
   "outputs": [],
   "metadata": {}
  },
  {
   "cell_type": "code",
   "execution_count": null,
   "source": [
    "event_id['1'], type(event_id['1'])"
   ],
   "outputs": [],
   "metadata": {}
  },
  {
   "cell_type": "code",
   "execution_count": null,
   "source": [
    "events.shape"
   ],
   "outputs": [],
   "metadata": {}
  },
  {
   "cell_type": "code",
   "execution_count": null,
   "source": [
    "# (sample number, _, event code)\r\n",
    "events[:10]"
   ],
   "outputs": [],
   "metadata": {}
  },
  {
   "cell_type": "code",
   "execution_count": null,
   "source": [
    "import numpy as np\r\n",
    "\r\n",
    "# only the start trigger is needed\r\n",
    "choice = np.ones(180)\r\n",
    "\r\n",
    "for i in range(1, 180, 2):\r\n",
    "    choice[i] = 0\r\n",
    "\r\n",
    "choice = (choice == 1)\r\n",
    "events = events[choice]\r\n",
    "\r\n",
    "events.shape, events[:10]"
   ],
   "outputs": [],
   "metadata": {}
  },
  {
   "cell_type": "code",
   "execution_count": null,
   "source": [
    "useful_channels = reconst_raw.ch_names[:]\r\n",
    "\r\n",
    "for ch in unused_channels:\r\n",
    "    useful_channels.remove(ch)\r\n",
    "\r\n",
    "for ch in EOG_channels:\r\n",
    "    useful_channels.remove(ch)\r\n",
    "\r\n",
    "epochs = mne.Epochs(reconst_raw, events, tmin=-0.3, tmax=20, picks=useful_channels)\r\n"
   ],
   "outputs": [],
   "metadata": {}
  },
  {
   "cell_type": "code",
   "execution_count": null,
   "source": [
    "epochs"
   ],
   "outputs": [],
   "metadata": {}
  },
  {
   "cell_type": "code",
   "execution_count": null,
   "source": [
    "print(epochs.event_id)"
   ],
   "outputs": [],
   "metadata": {}
  },
  {
   "cell_type": "markdown",
   "source": [
    "# ERP"
   ],
   "metadata": {}
  },
  {
   "cell_type": "code",
   "execution_count": null,
   "source": [
    "epochs['1'].plot(n_channels=62)"
   ],
   "outputs": [],
   "metadata": {}
  },
  {
   "cell_type": "code",
   "execution_count": null,
   "source": [
    "epochs['1'].plot_psd()"
   ],
   "outputs": [],
   "metadata": {}
  },
  {
   "cell_type": "code",
   "execution_count": null,
   "source": [
    "epochs['1'].plot_psd_topomap()"
   ],
   "outputs": [],
   "metadata": {}
  },
  {
   "cell_type": "code",
   "execution_count": null,
   "source": [
    "# Evoked\r\n",
    "## Negative Evoked\r\n",
    "negative_evokeds = []\r\n",
    "## Neutral Evoked\r\n",
    "neutral_evokeds = []\r\n",
    "## Positive Evoked\r\n",
    "positive_evokeds = []\r\n",
    "\r\n",
    "\r\n",
    "for n in range(1, 91):\r\n",
    "    ev = epochs[str(n)].average()\r\n",
    "    if labels[n] == 0:\r\n",
    "        negative_evokeds.append(ev)\r\n",
    "    elif labels[n] == 1:\r\n",
    "        neutral_evokeds.append(ev)\r\n",
    "    elif labels[n] == 2:\r\n",
    "        positive_evokeds.append(ev)\r\n",
    "\r\n",
    "negative_evoked = mne.combine_evoked(negative_evokeds, weights='equal')\r\n",
    "neutral_evoked = mne.combine_evoked(neutral_evokeds, weights='equal')\r\n",
    "positive_evoked = mne.combine_evoked(positive_evokeds, weights='equal')\r\n",
    "\r\n",
    "print(negative_evoked)\r\n",
    "print(neutral_evoked)\r\n",
    "print(positive_evoked)"
   ],
   "outputs": [],
   "metadata": {}
  },
  {
   "cell_type": "code",
   "execution_count": null,
   "source": [
    "negative_evoked.plot(spatial_colors=True, window_title='Negative Evoked')\r\n",
    "neutral_evoked.plot(spatial_colors=True, window_title='Neutral Evoked')\r\n",
    "positive_evoked.plot(spatial_colors=True, window_title='Positive Evoked')"
   ],
   "outputs": [],
   "metadata": {}
  },
  {
   "cell_type": "code",
   "execution_count": null,
   "source": [
    "times = np.linspace(0.05, 20, 5)\r\n",
    "negative_evoked.plot_topomap(times=times, colorbar=True)\r\n",
    "neutral_evoked.plot_topomap(times=times, colorbar=True)\r\n",
    "positive_evoked.plot_topomap(times=times, colorbar=True)"
   ],
   "outputs": [],
   "metadata": {}
  },
  {
   "cell_type": "code",
   "execution_count": null,
   "source": [
    "negative_evoked.plot_joint()\r\n",
    "neutral_evoked.plot_joint()\r\n",
    "positive_evoked.plot_joint()"
   ],
   "outputs": [],
   "metadata": {}
  },
  {
   "cell_type": "code",
   "execution_count": null,
   "source": [
    "def custom_func(x):\r\n",
    "    return x.max(axis=1)\r\n",
    "\r\n",
    "\r\n",
    "for combine in ('mean', 'median', 'gfp', custom_func):\r\n",
    "    mne.viz.plot_compare_evokeds([negative_evoked, neutral_evoked, positive_evoked], combine=combine)"
   ],
   "outputs": [],
   "metadata": {}
  },
  {
   "cell_type": "code",
   "execution_count": null,
   "source": [
    "negative_evoked.plot_image()\r\n",
    "neutral_evoked.plot_image()\r\n",
    "positive_evoked.plot_image()"
   ],
   "outputs": [],
   "metadata": {}
  },
  {
   "cell_type": "markdown",
   "source": [
    "# Export npy"
   ],
   "metadata": {}
  },
  {
   "cell_type": "code",
   "execution_count": null,
   "source": [
    "epochs['1'].get_data().shape"
   ],
   "outputs": [],
   "metadata": {}
  },
  {
   "cell_type": "code",
   "execution_count": null,
   "source": [
    "# process labels\r\n",
    "import csv\r\n",
    "\r\n",
    "labels = {}\r\n",
    "\r\n",
    "psyfile = r\"D:\\bcmi\\exp\\psychopy_export\\yinhao.csv\"\r\n",
    "\r\n",
    "with open(psyfile, 'r', newline='') as psyf:\r\n",
    "    reader = csv.DictReader(psyf)\r\n",
    "    for row in reader:\r\n",
    "        img_name = row['imageName']\r\n",
    "        img_no = int(img_name[:img_name.rindex('.')])\r\n",
    "        if row[' category'] == '负向':\r\n",
    "            emotion_label = 0\r\n",
    "        elif row[' category'] == '中性':\r\n",
    "            emotion_label = 1\r\n",
    "        elif row[' category'] == '正向':\r\n",
    "            emotion_label = 2\r\n",
    "        else:\r\n",
    "            print('error')\r\n",
    "        \r\n",
    "        labels[img_no] = emotion_label\r\n",
    "\r\n",
    "print(labels)"
   ],
   "outputs": [],
   "metadata": {}
  },
  {
   "cell_type": "code",
   "execution_count": null,
   "source": [
    "positive_count = 0\r\n",
    "neutral_count = 0\r\n",
    "negative_count = 0\r\n",
    "\r\n",
    "for k, v in labels.items():\r\n",
    "    if v == 0:\r\n",
    "        negative_count += 1\r\n",
    "    elif v == 1:\r\n",
    "        neutral_count += 1\r\n",
    "    else:\r\n",
    "        positive_count += 1\r\n",
    "\r\n",
    "positive_count, neutral_count, negative_count"
   ],
   "outputs": [],
   "metadata": {}
  },
  {
   "cell_type": "code",
   "execution_count": null,
   "source": [
    "# For this subject\r\n",
    "# (number of images, 6(1 total+5 frequency bands), number of channels, sample numbers)\r\n",
    "# (90, 6, 62, 4000) 20s/image, 200Hz\r\n",
    "\r\n",
    "# further cut into 2 seconds (400 sample points) slices\r\n",
    "# (90, 6, 10, 62, 400)\r\n",
    "\r\n",
    "# final\r\n",
    "# (bands, number of cases, channels, sample points)\r\n",
    "# (6, 90*10, 62, 400)\r\n",
    "\r\n",
    "bands = ['all', 'delta', 'theta', 'alpha', 'beta', 'gamma']\r\n",
    "lows = [1, 1, 4, 8, 14, 31]\r\n",
    "highs = [75, 4, 8, 14, 31, 50]\r\n",
    "\r\n",
    "epochs.load_data()\r\n",
    "\r\n",
    "# 6 * (1, 900, 62, 400)\r\n",
    "datas = []\r\n",
    "for b in range(6):\r\n",
    "    # 90 * (10, 62, 400)\r\n",
    "    for_this_band = []\r\n",
    "    filtered_epochs = epochs.copy().filter(l_freq=lows[b], h_freq=highs[b])\r\n",
    "    for img in range(1, 91):\r\n",
    "        # 10 * (1, 62, 400)\r\n",
    "        slices = []\r\n",
    "        # (1, 62, 4000)\r\n",
    "        img_data = filtered_epochs[str(img)].get_data()[:, :, :4000]\r\n",
    "        for s in range(10):\r\n",
    "            slices.append(img_data[:, :, 400*s : 400*(s+1)])\r\n",
    "        \r\n",
    "        for_this_band.append(np.concatenate(slices, axis=0))\r\n",
    "    \r\n",
    "    datas.append(np.expand_dims(np.concatenate(for_this_band, axis=0), axis=0))\r\n",
    "\r\n",
    "subj_data = np.concatenate(datas, axis=0)\r\n",
    "\r\n",
    "# 900\r\n",
    "labs = []\r\n",
    "for img in range(1, 91):\r\n",
    "    for s in range(10):\r\n",
    "        labs.append(labels[img])\r\n",
    "\r\n",
    "subj_label = np.array(labs)\r\n",
    "\r\n",
    "print(subj_data.shape, subj_label.shape)\r\n",
    "print(subj_data.dtype, subj_label.dtype)\r\n",
    "\r\n",
    "out_dir = './npydata'\r\n",
    "if not os.path.exists(out_dir):\r\n",
    "    os.makedirs(out_dir)\r\n",
    "\r\n",
    "np.save(out_dir+'/{}_data.npy'.format(subj_name), subj_data)\r\n",
    "np.save(out_dir+'/{}_label.npy'.format(subj_name), subj_label)\r\n"
   ],
   "outputs": [],
   "metadata": {}
  }
 ],
 "metadata": {
  "interpreter": {
   "hash": "26f1ccde8135369abc8b168f731376d5b4ee9cdc65b504750b4a7709884cf767"
  },
  "kernelspec": {
   "name": "python3",
   "display_name": "Python 3.8.5 64-bit"
  },
  "language_info": {
   "codemirror_mode": {
    "name": "ipython",
    "version": 3
   },
   "file_extension": ".py",
   "mimetype": "text/x-python",
   "name": "python",
   "nbconvert_exporter": "python",
   "pygments_lexer": "ipython3",
   "version": "3.8.5"
  },
  "metadata": {
   "interpreter": {
    "hash": "26f1ccde8135369abc8b168f731376d5b4ee9cdc65b504750b4a7709884cf767"
   }
  },
  "orig_nbformat": 2
 },
 "nbformat": 4,
 "nbformat_minor": 2
}